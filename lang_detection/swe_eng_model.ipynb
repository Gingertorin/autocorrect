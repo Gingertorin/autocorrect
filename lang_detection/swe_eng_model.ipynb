{
 "cells": [
  {
   "cell_type": "code",
   "execution_count": 3,
   "metadata": {},
   "outputs": [],
   "source": [
    "import pandas as pd\n",
    "import numpy as np\n",
    "import random\n",
    "from collections import defaultdict\n",
    "\n",
    "RANDOM_SEED = 42"
   ]
  },
  {
   "cell_type": "markdown",
   "metadata": {},
   "source": [
    "### Load dataset"
   ]
  },
  {
   "cell_type": "code",
   "execution_count": 4,
   "metadata": {},
   "outputs": [],
   "source": [
    "df = pd.read_csv(\"./data/sample_data.csv\")"
   ]
  },
  {
   "cell_type": "markdown",
   "metadata": {},
   "source": [
    "### Filter out English & Swedish"
   ]
  },
  {
   "cell_type": "code",
   "execution_count": 5,
   "metadata": {},
   "outputs": [
    {
     "data": {
      "text/html": [
       "<div>\n",
       "<style scoped>\n",
       "    .dataframe tbody tr th:only-of-type {\n",
       "        vertical-align: middle;\n",
       "    }\n",
       "\n",
       "    .dataframe tbody tr th {\n",
       "        vertical-align: top;\n",
       "    }\n",
       "\n",
       "    .dataframe thead th {\n",
       "        text-align: right;\n",
       "    }\n",
       "</style>\n",
       "<table border=\"1\" class=\"dataframe\">\n",
       "  <thead>\n",
       "    <tr style=\"text-align: right;\">\n",
       "      <th></th>\n",
       "      <th>sentence_id</th>\n",
       "      <th>language_code</th>\n",
       "      <th>sentence</th>\n",
       "    </tr>\n",
       "  </thead>\n",
       "  <tbody>\n",
       "    <tr>\n",
       "      <th>0</th>\n",
       "      <td>4325196</td>\n",
       "      <td>por</td>\n",
       "      <td>você viu o meu telefone? poxa, pior que não.</td>\n",
       "    </tr>\n",
       "    <tr>\n",
       "      <th>1</th>\n",
       "      <td>11116788</td>\n",
       "      <td>eng</td>\n",
       "      <td>ziri and rima should nevr have eaten at that r...</td>\n",
       "    </tr>\n",
       "    <tr>\n",
       "      <th>2</th>\n",
       "      <td>7380358</td>\n",
       "      <td>eng</td>\n",
       "      <td>mary is married now, isnt she?</td>\n",
       "    </tr>\n",
       "    <tr>\n",
       "      <th>3</th>\n",
       "      <td>11905621</td>\n",
       "      <td>swe</td>\n",
       "      <td>alla santiagos planer misslyckades.</td>\n",
       "    </tr>\n",
       "    <tr>\n",
       "      <th>4</th>\n",
       "      <td>10211752</td>\n",
       "      <td>spa</td>\n",
       "      <td>vosotras sois la razón por la que vine.</td>\n",
       "    </tr>\n",
       "    <tr>\n",
       "      <th>...</th>\n",
       "      <td>...</td>\n",
       "      <td>...</td>\n",
       "      <td>...</td>\n",
       "    </tr>\n",
       "    <tr>\n",
       "      <th>8995</th>\n",
       "      <td>4371134</td>\n",
       "      <td>swe</td>\n",
       "      <td>tom kommer hit så gott som varje dag.</td>\n",
       "    </tr>\n",
       "    <tr>\n",
       "      <th>8996</th>\n",
       "      <td>11938611</td>\n",
       "      <td>swe</td>\n",
       "      <td>undantag kan gälla i vissa fall.</td>\n",
       "    </tr>\n",
       "    <tr>\n",
       "      <th>8997</th>\n",
       "      <td>3807254</td>\n",
       "      <td>swe</td>\n",
       "      <td>ett gott samvete är bästa huvudkudden.</td>\n",
       "    </tr>\n",
       "    <tr>\n",
       "      <th>8998</th>\n",
       "      <td>3049523</td>\n",
       "      <td>eng</td>\n",
       "      <td>the experiments have been being carried out si...</td>\n",
       "    </tr>\n",
       "    <tr>\n",
       "      <th>8999</th>\n",
       "      <td>4530529</td>\n",
       "      <td>ita</td>\n",
       "      <td>alcuni dei tuoi video sono stati bloccati.</td>\n",
       "    </tr>\n",
       "  </tbody>\n",
       "</table>\n",
       "<p>9000 rows × 3 columns</p>\n",
       "</div>"
      ],
      "text/plain": [
       "      sentence_id language_code  \\\n",
       "0         4325196           por   \n",
       "1        11116788           eng   \n",
       "2         7380358           eng   \n",
       "3        11905621           swe   \n",
       "4        10211752           spa   \n",
       "...           ...           ...   \n",
       "8995      4371134           swe   \n",
       "8996     11938611           swe   \n",
       "8997      3807254           swe   \n",
       "8998      3049523           eng   \n",
       "8999      4530529           ita   \n",
       "\n",
       "                                               sentence  \n",
       "0          você viu o meu telefone? poxa, pior que não.  \n",
       "1     ziri and rima should nevr have eaten at that r...  \n",
       "2                        mary is married now, isnt she?  \n",
       "3                   alla santiagos planer misslyckades.  \n",
       "4               vosotras sois la razón por la que vine.  \n",
       "...                                                 ...  \n",
       "8995              tom kommer hit så gott som varje dag.  \n",
       "8996                   undantag kan gälla i vissa fall.  \n",
       "8997             ett gott samvete är bästa huvudkudden.  \n",
       "8998  the experiments have been being carried out si...  \n",
       "8999         alcuni dei tuoi video sono stati bloccati.  \n",
       "\n",
       "[9000 rows x 3 columns]"
      ]
     },
     "execution_count": 5,
     "metadata": {},
     "output_type": "execute_result"
    }
   ],
   "source": [
    "\n",
    "df_filtered = df[df['language_code'].isin(['eng', 'swe'])]\n",
    "\n",
    "# Get all unique languages except English and Swedish\n",
    "other_languages = df[~df['language_code'].isin(['eng', 'swe'])]['language_code'].unique()\n",
    "\n",
    "# Calculate how many samples per language (ensuring equal distribution)\n",
    "num_samples_per_lang = 3000 // len(other_languages)  # Divide equally\n",
    "\n",
    "# Select equal samples from each remaining language\n",
    "df_other = df[df['language_code'].isin(other_languages)].groupby('language_code').sample(n=num_samples_per_lang, random_state=42)\n",
    "\n",
    "# Combine both datasets\n",
    "df_final = pd.concat([df_filtered, df_other])\n",
    "\n",
    "# Shuffle the dataset\n",
    "df_final = df_final.sample(frac=1, random_state=RANDOM_SEED).reset_index(drop=True)\n",
    "df_final"
   ]
  },
  {
   "cell_type": "markdown",
   "metadata": {},
   "source": [
    "\n",
    "# Define Keyboard/Input\n",
    "### Mapping the input to 3d space"
   ]
  },
  {
   "cell_type": "code",
   "execution_count": 6,
   "metadata": {},
   "outputs": [],
   "source": [
    "# Swedish QWERTY Keyboard Layout with Shift and AltGr Layers\n",
    "swedish_keyboard_layout = {\n",
    "    # Base layer (unshifted, 0)\n",
    "    0: [\n",
    "        ['1', '2', '3', '4', '5', '6', '7', '8', '9', '0', '+', '´'],\n",
    "        ['q', 'w', 'e', 'r', 't', 'y', 'u', 'i', 'o', 'p', 'å', '¨'],\n",
    "        ['a', 's', 'd', 'f', 'g', 'h', 'j', 'k', 'l', 'ö', 'ä', \"'\"],\n",
    "        ['z', 'x', 'c', 'v', 'b', 'n', 'm', ',', '.', '-']\n",
    "    ],\n",
    "\n",
    "    # Shift layer (uppercase & shifted symbols, 1)\n",
    "    1: [\n",
    "        ['!', '\"', '#', '¤', '%', '&', '/', '(', ')', '=', '?', '`'],\n",
    "        ['Q', 'W', 'E', 'R', 'T', 'Y', 'U', 'I', 'O', 'P', 'Å', '^'],\n",
    "        ['A', 'S', 'D', 'F', 'G', 'H', 'J', 'K', 'L', 'Ö', 'Ä', '*'],\n",
    "        ['Z', 'X', 'C', 'V', 'B', 'N', 'M', ';', ':', '_']\n",
    "    ],\n",
    "\n",
    "    # AltGr layer (symbols, now 2 instead of 1)\n",
    "    2: [\n",
    "        ['§', '@', '£', '$', '€', '{', '[', ']', '}', '\\\\', '|', '~'],\n",
    "        ['q', 'w', '€', 'r', 't', 'y', 'u', 'i', 'o', 'p', 'å', '¨'],  # Only '€' differs\n",
    "        ['ä', 'ß', 'ð', 'đ', 'ŋ', 'ħ', 'j', 'ĸ', 'ł', 'ö', 'ä', \"'\"],  # Special letters\n",
    "        ['æ', '©', '¢', 'v', 'b', 'n', 'µ', ',', '.', '-']\n",
    "    ]\n",
    "}\n",
    "\n",
    "# Map each key to its (row, col, layer) coordinates\n",
    "keyboard_mapping = {}\n",
    "\n",
    "for layer in [0, 1, 2]:  # Iterate over base, shift, and AltGr layers\n",
    "    for row_idx, row in enumerate(swedish_keyboard_layout[layer]):\n",
    "        for col_idx, key in enumerate(row):\n",
    "            keyboard_mapping[key] = (row_idx, col_idx, layer)\n"
   ]
  },
  {
   "cell_type": "markdown",
   "metadata": {},
   "source": [
    "### Get the Euclidean distance between two input nodes"
   ]
  },
  {
   "cell_type": "code",
   "execution_count": 7,
   "metadata": {},
   "outputs": [],
   "source": [
    "def key_distance(k1, k2, shift_weight=1, altgr_weight=2):\n",
    "    \"\"\"\n",
    "    Computes the Euclidean distance between two keys in a 3D space.\n",
    "    Shift layer switches are penalized normally, but AltGr switches are penalized more.\n",
    "    \"\"\"\n",
    "    if k1 in keyboard_mapping and k2 in keyboard_mapping:\n",
    "        x1, y1, l1 = keyboard_mapping[k1]\n",
    "        x2, y2, l2 = keyboard_mapping[k2]\n",
    "        \n",
    "        # Adjust layer distance weight: Shift (1), AltGr (2)\n",
    "        layer_distance = abs(l1 - l2)\n",
    "        if layer_distance == 1:  # Shift key switch\n",
    "            layer_penalty = shift_weight\n",
    "        elif layer_distance == 2:  # AltGr key switch (more costly)\n",
    "            layer_penalty = altgr_weight\n",
    "        else:\n",
    "            layer_penalty = 0\n",
    "        \n",
    "        # Euclidean distance with layer penalty\n",
    "        return np.sqrt((x1 - x2) ** 2 + (y1 - y2) ** 2) + layer_penalty\n",
    "\n",
    "    return float('inf')  # Large distance for non-existent keys"
   ]
  },
  {
   "cell_type": "markdown",
   "metadata": {},
   "source": [
    "### Probability of mistyping k1 as k2 based on distance."
   ]
  },
  {
   "cell_type": "code",
   "execution_count": 8,
   "metadata": {},
   "outputs": [],
   "source": [
    "def error_probability(k1, k2, alpha=1.5):\n",
    "    \"\"\"\n",
    "    Computes the probability of mistyping k1 as k2 based on keyboard distance.\n",
    "    Uses an exponential decay function to favor closer mistakes.\n",
    "    \"\"\"\n",
    "    d = key_distance(k1, k2)\n",
    "    return np.exp(-alpha * d) if d < float('inf') else 0\n"
   ]
  },
  {
   "cell_type": "markdown",
   "metadata": {},
   "source": [
    "###  Generate Typo Candidates Across All Layers"
   ]
  },
  {
   "cell_type": "code",
   "execution_count": null,
   "metadata": {},
   "outputs": [],
   "source": [
    "def generate_candidates(word, typo_rate=0.2):\n",
    "    \"\"\"\n",
    "    Generates probable mistyped versions of a word based on keyboard adjacency.\n",
    "    Includes substitutions, insertions, and deletions.\n",
    "    \"\"\"\n",
    "    candidates = defaultdict(float)\n",
    "    \n",
    "    for i, letter in enumerate(word):\n",
    "        if letter in keyboard_mapping:\n",
    "            # 1. **Substitutions**: Replace letter with a neighboring key\n",
    "            for key in keyboard_mapping.keys():\n",
    "                if key != letter:\n",
    "                    new_word = word[:i] + key + word[i+1:]\n",
    "                    candidates[new_word] += error_probability(letter, key)\n",
    "            \n",
    "            # 2. **Insertions**: Add a random nearby letter\n",
    "            if random.random() < typo_rate:\n",
    "                nearby_keys = [k for k in keyboard_mapping.keys() if error_probability(letter, k) > 0.01]\n",
    "                if nearby_keys:\n",
    "                    insert_key = random.choice(nearby_keys)\n",
    "                    new_word = word[:i] + insert_key + word[i:]\n",
    "                    candidates[new_word] += 0.05  # Small probability for insertions\n",
    "            \n",
    "            # 3. **Deletions**: Remove a letter\n",
    "            if random.random() < typo_rate:\n",
    "                new_word = word[:i] + word[i+1:]\n",
    "                candidates[new_word] += 0.05  # Small probability for deletions\n",
    "    \n",
    "    # Sort candidates by highest probability\n",
    "    return dict(sorted(candidates.items(), key=lambda x: -x[1]))"
   ]
  },
  {
   "cell_type": "code",
   "execution_count": 10,
   "metadata": {},
   "outputs": [
    {
     "name": "stdout",
     "output_type": "stream",
     "text": [
      "{'gello': np.float64(0.22313016014842982), 'Hello': np.float64(0.22313016014842982), 'h3llo': np.float64(0.22313016014842982), 'hdllo': np.float64(0.22313016014842982), 'hEllo': np.float64(0.22313016014842982), 'heklo': np.float64(0.22313016014842982), 'heLlo': np.float64(0.22313016014842982), 'helko': np.float64(0.22313016014842982), 'helLo': np.float64(0.22313016014842982), 'helli': np.float64(0.22313016014842982), 'hellp': np.float64(0.22313016014842982), 'hellO': np.float64(0.22313016014842982), 'hell}': np.float64(0.22313016014842982), 'hellł': np.float64(0.22313016014842982), 'mello': np.float64(0.119873250103762), 'h2llo': np.float64(0.119873250103762), 'h4llo': np.float64(0.119873250103762), 'hsllo': np.float64(0.119873250103762), 'hfllo': np.float64(0.119873250103762), 'hellö': np.float64(0.119873250103762), 'hell]': np.float64(0.119873250103762), 'hell\\\\': np.float64(0.119873250103762), 'hellĸ': np.float64(0.119873250103762), '6ello': np.float64(0.049787068367863944), 'fello': np.float64(0.049787068367863944), 'kello': np.float64(0.049787068367863944), 'Yello': np.float64(0.049787068367863944), 'Gello': np.float64(0.049787068367863944), 'Jello': np.float64(0.049787068367863944), 'Nello': np.float64(0.049787068367863944), 'ħello': np.float64(0.049787068367863944), 'hcllo': np.float64(0.049787068367863944), 'h#llo': np.float64(0.049787068367863944), 'hWllo': np.float64(0.049787068367863944), 'hRllo': np.float64(0.049787068367863944), 'hDllo': np.float64(0.049787068367863944), 'h€llo': np.float64(0.049787068367863944), 'he9lo': np.float64(0.049787068367863944), 'heOlo': np.float64(0.049787068367863944), 'heKlo': np.float64(0.049787068367863944), 'heÖlo': np.float64(0.049787068367863944), 'he:lo': np.float64(0.049787068367863944), 'hełlo': np.float64(0.049787068367863944), 'hel9o': np.float64(0.049787068367863944), 'helOo': np.float64(0.049787068367863944), 'helKo': np.float64(0.049787068367863944), 'helÖo': np.float64(0.049787068367863944), 'hel:o': np.float64(0.049787068367863944), 'helło': np.float64(0.049787068367863944), 'hellu': np.float64(0.049787068367863944), 'hellå': np.float64(0.049787068367863944), 'hell.': np.float64(0.049787068367863944), 'hell)': np.float64(0.049787068367863944), 'hellI': np.float64(0.049787068367863944), 'hellP': np.float64(0.049787068367863944), 'hellL': np.float64(0.049787068367863944), '5ello': np.float64(0.03494073402815759), '7ello': np.float64(0.03494073402815759), 'h1llo': np.float64(0.03494073402815759), 'h5llo': np.float64(0.03494073402815759), 'hallo': np.float64(0.03494073402815759), 'hgllo': np.float64(0.03494073402815759), 'hxllo': np.float64(0.03494073402815759), 'he8lo': np.float64(0.03494073402815759), 'he0lo': np.float64(0.03494073402815759), 'hemlo': np.float64(0.03494073402815759), 'hel8o': np.float64(0.03494073402815759), 'hel0o': np.float64(0.03494073402815759), 'helmo': np.float64(0.03494073402815759), 'hellj': np.float64(0.03494073402815759), 'hellä': np.float64(0.03494073402815759), 'hell,': np.float64(0.03494073402815759), 'hell-': np.float64(0.03494073402815759), 'hell[': np.float64(0.03494073402815759), 'hell|': np.float64(0.03494073402815759), 'Tello': np.float64(0.02674733749316521), 'Uello': np.float64(0.02674733749316521), 'Bello': np.float64(0.02674733749316521), 'Mello': np.float64(0.02674733749316521), 'h\"llo': np.float64(0.02674733749316521), 'h¤llo': np.float64(0.02674733749316521), 'hSllo': np.float64(0.02674733749316521), 'hFllo': np.float64(0.02674733749316521), 'heIlo': np.float64(0.02674733749316521), 'hePlo': np.float64(0.02674733749316521), 'he;lo': np.float64(0.02674733749316521), 'he_lo': np.float64(0.02674733749316521), 'helIo': np.float64(0.02674733749316521), 'helPo': np.float64(0.02674733749316521), 'hel;o': np.float64(0.02674733749316521), 'hel_o': np.float64(0.02674733749316521), 'hell(': np.float64(0.02674733749316521), 'hell=': np.float64(0.02674733749316521), 'hellK': np.float64(0.02674733749316521), 'hellÖ': np.float64(0.02674733749316521), '4ello': np.float64(0.014369596090439076), '8ello': np.float64(0.014369596090439076), 'hzllo': np.float64(0.014369596090439076), 'he7lo': np.float64(0.014369596090439076), 'he+lo': np.float64(0.014369596090439076), 'hel7o': np.float64(0.014369596090439076), 'hel+o': np.float64(0.014369596090439076), 'hellµ': np.float64(0.014369596090439076), 'yello': np.float64(0.011108996538242306), 'dello': np.float64(0.011108996538242306), 'jello': np.float64(0.011108996538242306), 'lello': np.float64(0.011108996538242306), 'nello': np.float64(0.011108996538242306), '&ello': np.float64(0.011108996538242306), 'Fello': np.float64(0.011108996538242306), 'Kello': np.float64(0.011108996538242306), 'ŋello': np.float64(0.011108996538242306), 'hwllo': np.float64(0.011108996538242306), 'hrllo': np.float64(0.011108996538242306), 'hQllo': np.float64(0.011108996538242306), 'hTllo': np.float64(0.011108996538242306), 'hCllo': np.float64(0.011108996538242306), 'h£llo': np.float64(0.011108996538242306), 'hðllo': np.float64(0.011108996538242306), 'heolo': np.float64(0.011108996538242306), 'hehlo': np.float64(0.011108996538242306), 'heölo': np.float64(0.011108996538242306), 'he.lo': np.float64(0.011108996538242306), 'he)lo': np.float64(0.011108996538242306), 'heJlo': np.float64(0.011108996538242306), 'heÄlo': np.float64(0.011108996538242306), 'heĸlo': np.float64(0.011108996538242306), 'heloo': np.float64(0.011108996538242306), 'helho': np.float64(0.011108996538242306), 'helöo': np.float64(0.011108996538242306), 'hel.o': np.float64(0.011108996538242306), 'hel)o': np.float64(0.011108996538242306), 'helJo': np.float64(0.011108996538242306), 'helÄo': np.float64(0.011108996538242306), 'helĸo': np.float64(0.011108996538242306), 'hell9': np.float64(0.011108996538242306), 'helly': np.float64(0.011108996538242306), 'hell¨': np.float64(0.011108996538242306), 'helll': np.float64(0.011108996538242306), 'hellU': np.float64(0.011108996538242306), 'hellÅ': np.float64(0.011108996538242306), 'hell:': np.float64(0.011108996538242306), 'eello': np.float64(0.008708841628440166), 'cello': np.float64(0.008708841628440166), 'h6llo': np.float64(0.008708841628440166), 'hhllo': np.float64(0.008708841628440166), \"hell'\": np.float64(0.008708841628440166), 'hell{': np.float64(0.008708841628440166), 'hell~': np.float64(0.008708841628440166), 'hellħ': np.float64(0.008708841628440166), '%ello': np.float64(0.007796331579406494), '/ello': np.float64(0.007796331579406494), 'Rello': np.float64(0.007796331579406494), 'Iello': np.float64(0.007796331579406494), 'Vello': np.float64(0.007796331579406494), ';ello': np.float64(0.007796331579406494), 'h!llo': np.float64(0.007796331579406494), 'h%llo': np.float64(0.007796331579406494), 'hAllo': np.float64(0.007796331579406494), 'hGllo': np.float64(0.007796331579406494), 'hXllo': np.float64(0.007796331579406494), 'hVllo': np.float64(0.007796331579406494), 'he(lo': np.float64(0.007796331579406494), 'he=lo': np.float64(0.007796331579406494), 'heUlo': np.float64(0.007796331579406494), 'heÅlo': np.float64(0.007796331579406494), 'heMlo': np.float64(0.007796331579406494), 'hel(o': np.float64(0.007796331579406494), 'hel=o': np.float64(0.007796331579406494), 'helUo': np.float64(0.007796331579406494), 'helÅo': np.float64(0.007796331579406494), 'helMo': np.float64(0.007796331579406494), 'hell/': np.float64(0.007796331579406494), 'hell?': np.float64(0.007796331579406494), 'hellJ': np.float64(0.007796331579406494), 'hellÄ': np.float64(0.007796331579406494), 'hell;': np.float64(0.007796331579406494), 'hell_': np.float64(0.007796331579406494), 'tello': np.float64(0.005968137698394058), 'uello': np.float64(0.005968137698394058), 'bello': np.float64(0.005968137698394058), 'µello': np.float64(0.005968137698394058), 'h@llo': np.float64(0.005968137698394058), 'h$llo': np.float64(0.005968137698394058), 'hßllo': np.float64(0.005968137698394058), 'hđllo': np.float64(0.005968137698394058), 'heilo': np.float64(0.005968137698394058), 'heplo': np.float64(0.005968137698394058), 'he,lo': np.float64(0.005968137698394058), 'he-lo': np.float64(0.005968137698394058), 'helio': np.float64(0.005968137698394058), 'helpo': np.float64(0.005968137698394058), 'hel,o': np.float64(0.005968137698394058), 'hel-o': np.float64(0.005968137698394058), 'hell8': np.float64(0.005968137698394058), 'hell0': np.float64(0.005968137698394058), 'hellk': np.float64(0.005968137698394058), '3ello': np.float64(0.004479127915621211), '9ello': np.float64(0.004479127915621211), 'he6lo': np.float64(0.004479127915621211), 'he´lo': np.float64(0.004479127915621211), 'hel6o': np.float64(0.004479127915621211), 'hel´o': np.float64(0.004479127915621211), 'helln': np.float64(0.004479127915621211), '¤ello': np.float64(0.0032062902769279225), '(ello': np.float64(0.0032062902769279225), 'hZllo': np.float64(0.0032062902769279225), 'hBllo': np.float64(0.0032062902769279225), 'he/lo': np.float64(0.0032062902769279225), 'he?lo': np.float64(0.0032062902769279225), 'hel/o': np.float64(0.0032062902769279225), 'hel?o': np.float64(0.0032062902769279225), 'hellM': np.float64(0.0032062902769279225), 'sello': np.float64(0.0024787521766663585), 'Dello': np.float64(0.0024787521766663585), 'Lello': np.float64(0.0024787521766663585), '{ello': np.float64(0.0024787521766663585), 'đello': np.float64(0.0024787521766663585), 'ĸello': np.float64(0.0024787521766663585), 'hqllo': np.float64(0.0024787521766663585), 'htllo': np.float64(0.0024787521766663585), 'hYllo': np.float64(0.0024787521766663585), 'h¢llo': np.float64(0.0024787521766663585), 'heglo': np.float64(0.0024787521766663585), 'hejlo': np.float64(0.0024787521766663585), 'heälo': np.float64(0.0024787521766663585), 'heHlo': np.float64(0.0024787521766663585), 'he*lo': np.float64(0.0024787521766663585), 'he}lo': np.float64(0.0024787521766663585), 'helgo': np.float64(0.0024787521766663585), 'heljo': np.float64(0.0024787521766663585), 'heläo': np.float64(0.0024787521766663585), 'helHo': np.float64(0.0024787521766663585), 'hel*o': np.float64(0.0024787521766663585), 'hel}o': np.float64(0.0024787521766663585), 'hellt': np.float64(0.0024787521766663585), 'hellY': np.float64(0.0024787521766663585), 'hell^': np.float64(0.0024787521766663585), 'xello': np.float64(0.0020608053243469436), 'h7llo': np.float64(0.0020608053243469436), 'hellŋ': np.float64(0.0020608053243469436), 'Eello': np.float64(0.0019432052272611651), 'Oello': np.float64(0.0019432052272611651), 'Cello': np.float64(0.0019432052272611651), ':ello': np.float64(0.0019432052272611651), 'h&llo': np.float64(0.0019432052272611651), 'hHllo': np.float64(0.0019432052272611651), 'heYlo': np.float64(0.0019432052272611651), 'he^lo': np.float64(0.0019432052272611651), 'heNlo': np.float64(0.0019432052272611651), 'helYo': np.float64(0.0019432052272611651), 'hel^o': np.float64(0.0019432052272611651), 'helNo': np.float64(0.0019432052272611651), 'hell&': np.float64(0.0019432052272611651), 'hell`': np.float64(0.0019432052272611651), 'hellH': np.float64(0.0019432052272611651), 'hell*': np.float64(0.0019432052272611651), 'rello': np.float64(0.0017395967138832318), 'iello': np.float64(0.0017395967138832318), 'vello': np.float64(0.0017395967138832318), ',ello': np.float64(0.0017395967138832318), '[ello': np.float64(0.0017395967138832318), 'hvllo': np.float64(0.0017395967138832318), 'h§llo': np.float64(0.0017395967138832318), 'hŋllo': np.float64(0.0017395967138832318), 'h©llo': np.float64(0.0017395967138832318), 'heulo': np.float64(0.0017395967138832318), 'heålo': np.float64(0.0017395967138832318), 'he]lo': np.float64(0.0017395967138832318), 'he\\\\lo': np.float64(0.0017395967138832318), 'heµlo': np.float64(0.0017395967138832318), 'heluo': np.float64(0.0017395967138832318), 'helåo': np.float64(0.0017395967138832318), 'hel]o': np.float64(0.0017395967138832318), 'hel\\\\o': np.float64(0.0017395967138832318), 'helµo': np.float64(0.0017395967138832318), 'hell7': np.float64(0.0017395967138832318), 'hell+': np.float64(0.0017395967138832318), '2ello': np.float64(0.0012208548944264495), '0ello': np.float64(0.0012208548944264495), 'hmllo': np.float64(0.0012208548944264495), 'he5lo': np.float64(0.0012208548944264495), 'hel5o': np.float64(0.0012208548944264495), 'hellb': np.float64(0.0012208548944264495), '#ello': np.float64(0.0009994285291378626), ')ello': np.float64(0.0009994285291378626), 'hNllo': np.float64(0.0009994285291378626), 'he&lo': np.float64(0.0009994285291378626), 'he`lo': np.float64(0.0009994285291378626), 'hel&o': np.float64(0.0009994285291378626), 'hel`o': np.float64(0.0009994285291378626), 'hellN': np.float64(0.0009994285291378626), '$ello': np.float64(0.0007154200629732814), ']ello': np.float64(0.0007154200629732814), 'hbllo': np.float64(0.0007154200629732814), 'hællo': np.float64(0.0007154200629732814), 'he[lo': np.float64(0.0007154200629732814), 'he|lo': np.float64(0.0007154200629732814), 'hel[o': np.float64(0.0007154200629732814), 'hel|o': np.float64(0.0007154200629732814), 'hellm': np.float64(0.0007154200629732814), 'aello': np.float64(0.0005530843701478336), 'Sello': np.float64(0.0005530843701478336), 'Öello': np.float64(0.0005530843701478336), 'ðello': np.float64(0.0005530843701478336), 'łello': np.float64(0.0005530843701478336), 'hyllo': np.float64(0.0005530843701478336), 'hUllo': np.float64(0.0005530843701478336), 'heflo': np.float64(0.0005530843701478336), \"he'lo\": np.float64(0.0005530843701478336), 'heGlo': np.float64(0.0005530843701478336), 'heħlo': np.float64(0.0005530843701478336), 'helfo': np.float64(0.0005530843701478336), \"hel'o\": np.float64(0.0005530843701478336), 'helGo': np.float64(0.0005530843701478336), 'helħo': np.float64(0.0005530843701478336), 'hellr': np.float64(0.0005530843701478336), 'hellT': np.float64(0.0005530843701478336), 'zello': np.float64(0.00047674477632395345), 'h8llo': np.float64(0.00047674477632395345), 'hkllo': np.float64(0.00047674477632395345), 'hell$': np.float64(0.00047674477632395345), 'hellđ': np.float64(0.00047674477632395345), 'Wello': np.float64(0.0004598278220562704), 'Pello': np.float64(0.0004598278220562704), 'Xello': np.float64(0.0004598278220562704), '_ello': np.float64(0.0004598278220562704), 'h/llo': np.float64(0.0004598278220562704), 'hJllo': np.float64(0.0004598278220562704), 'heTlo': np.float64(0.0004598278220562704), 'heBlo': np.float64(0.0004598278220562704), 'helTo': np.float64(0.0004598278220562704), 'helBo': np.float64(0.0004598278220562704), 'hell%': np.float64(0.0004598278220562704), 'hellG': np.float64(0.0004598278220562704), 'oello': np.float64(0.00043358769356004976), '.ello': np.float64(0.00043358769356004976), '€ello': np.float64(0.00043358769356004976), '¢ello': np.float64(0.00043358769356004976), 'h{llo': np.float64(0.00043358769356004976), 'hħllo': np.float64(0.00043358769356004976), 'heylo': np.float64(0.00043358769356004976), 'he¨lo': np.float64(0.00043358769356004976), 'henlo': np.float64(0.00043358769356004976), 'helyo': np.float64(0.00043358769356004976), 'hel¨o': np.float64(0.00043358769356004976), 'helno': np.float64(0.00043358769356004976), 'hell6': np.float64(0.00043358769356004976), 'hell´': np.float64(0.00043358769356004976), 'hellh': np.float64(0.00043358769356004976), '1ello': np.float64(0.00031036944540309045), '+ello': np.float64(0.00031036944540309045), 'he4lo': np.float64(0.00031036944540309045), 'hel4o': np.float64(0.00031036944540309045), 'hellv': np.float64(0.00031036944540309045), '\"ello': np.float64(0.0002724095481113681), '=ello': np.float64(0.0002724095481113681), 'hMllo': np.float64(0.0002724095481113681), 'he%lo': np.float64(0.0002724095481113681), 'hel%o': np.float64(0.0002724095481113681), 'hellB': np.float64(0.0002724095481113681), '£ello': np.float64(0.00022300264776344076), '}ello': np.float64(0.00022300264776344076), 'hnllo': np.float64(0.00022300264776344076), 'he{lo': np.float64(0.00022300264776344076), 'he~lo': np.float64(0.00022300264776344076), 'hel{o': np.float64(0.00022300264776344076), 'hel~o': np.float64(0.00022300264776344076), 'öello': np.float64(0.00012340980408667956), 'Aello': np.float64(0.00012340980408667956), 'Äello': np.float64(0.00012340980408667956), 'ßello': np.float64(0.00012340980408667956), 'hullo': np.float64(0.00012340980408667956), 'hIllo': np.float64(0.00012340980408667956), 'hedlo': np.float64(0.00012340980408667956), 'heFlo': np.float64(0.00012340980408667956), 'heŋlo': np.float64(0.00012340980408667956), 'heldo': np.float64(0.00012340980408667956), 'helFo': np.float64(0.00012340980408667956), 'helŋo': np.float64(0.00012340980408667956), 'hellR': np.float64(0.00012340980408667956), 'hell€': np.float64(0.00012340980408667956), 'h9llo': np.float64(0.00010900205797079778), 'hlllo': np.float64(0.00010900205797079778), 'heelo': np.float64(0.00010900205797079778), 'heclo': np.float64(0.00010900205797079778), 'heleo': np.float64(0.00010900205797079778), 'helco': np.float64(0.00010900205797079778), 'hell£': np.float64(0.00010900205797079778), 'hellð': np.float64(0.00010900205797079778), 'Qello': np.float64(0.00010637613829109118), 'Åello': np.float64(0.00010637613829109118), 'Zello': np.float64(0.00010637613829109118), 'h(llo': np.float64(0.00010637613829109118), 'hKllo': np.float64(0.00010637613829109118), 'heRlo': np.float64(0.00010637613829109118), 'heVlo': np.float64(0.00010637613829109118), 'helRo': np.float64(0.00010637613829109118), 'helVo': np.float64(0.00010637613829109118), 'hell¤': np.float64(0.00010637613829109118), 'hellF': np.float64(0.00010637613829109118), 'wello': np.float64(0.00010260145557611931), 'pello': np.float64(0.00010260145557611931), '-ello': np.float64(0.00010260145557611931), '©ello': np.float64(0.00010260145557611931), 'hjllo': np.float64(0.00010260145557611931), 'h[llo': np.float64(0.00010260145557611931), 'hetlo': np.float64(0.00010260145557611931), 'heblo': np.float64(0.00010260145557611931), 'helto': np.float64(0.00010260145557611931), 'helbo': np.float64(0.00010260145557611931), 'hell5': np.float64(0.00010260145557611931), 'hellg': np.float64(0.00010260145557611931), '´ello': np.float64(7.584392250925236e-05), 'he3lo': np.float64(7.584392250925236e-05), 'hel3o': np.float64(7.584392250925236e-05), 'hell¢': np.float64(7.584392250925236e-05), '!ello': np.float64(6.925278405797091e-05), '?ello': np.float64(6.925278405797091e-05), 'h;llo': np.float64(6.925278405797091e-05), 'he¤lo': np.float64(6.925278405797091e-05), 'hel¤o': np.float64(6.925278405797091e-05), 'hellV': np.float64(6.925278405797091e-05), '@ello': np.float64(6.078278609605095e-05), '\\\\ello': np.float64(6.078278609605095e-05), 'hµllo': np.float64(6.078278609605095e-05), 'äello': np.float64(2.7536449349747158e-05), '*ello': np.float64(2.7536449349747158e-05), 'hillo': np.float64(2.7536449349747158e-05), 'hOllo': np.float64(2.7536449349747158e-05), 'heslo': np.float64(2.7536449349747158e-05), 'heDlo': np.float64(2.7536449349747158e-05), 'heđlo': np.float64(2.7536449349747158e-05), 'helso': np.float64(2.7536449349747158e-05), 'helDo': np.float64(2.7536449349747158e-05), 'helđo': np.float64(2.7536449349747158e-05), 'hellw': np.float64(2.7536449349747158e-05), 'hellE': np.float64(2.7536449349747158e-05), 'h0llo': np.float64(2.475206302697284e-05), 'hexlo': np.float64(2.475206302697284e-05), 'helxo': np.float64(2.475206302697284e-05), 'hell@': np.float64(2.475206302697284e-05), 'hellß': np.float64(2.475206302697284e-05), '^ello': np.float64(2.4321646651532542e-05), 'h)llo': np.float64(2.4321646651532542e-05), 'hLllo': np.float64(2.4321646651532542e-05), 'heElo': np.float64(2.4321646651532542e-05), 'heClo': np.float64(2.4321646651532542e-05), 'helEo': np.float64(2.4321646651532542e-05), 'helCo': np.float64(2.4321646651532542e-05), 'hell#': np.float64(2.4321646651532542e-05), 'hellD': np.float64(2.4321646651532542e-05), 'qello': np.float64(2.3735724772862693e-05), 'åello': np.float64(2.3735724772862693e-05), 'æello': np.float64(2.3735724772862693e-05), 'h]llo': np.float64(2.3735724772862693e-05), 'hĸllo': np.float64(2.3735724772862693e-05), 'herlo': np.float64(2.3735724772862693e-05), 'hevlo': np.float64(2.3735724772862693e-05), 'helro': np.float64(2.3735724772862693e-05), 'helvo': np.float64(2.3735724772862693e-05), 'hell4': np.float64(2.3735724772862693e-05), 'hellf': np.float64(2.3735724772862693e-05), 'he2lo': np.float64(1.8089754423337436e-05), 'hel2o': np.float64(1.8089754423337436e-05), 'hell©': np.float64(1.8089754423337436e-05), '`ello': np.float64(1.6923066575774584e-05), 'h:llo': np.float64(1.6923066575774584e-05), 'he#lo': np.float64(1.6923066575774584e-05), 'hel#o': np.float64(1.6923066575774584e-05), 'hellC': np.float64(1.6923066575774584e-05), '§ello': np.float64(1.5452384797579678e-05), '|ello': np.float64(1.5452384797579678e-05), 'h,llo': np.float64(1.5452384797579678e-05), 'he$lo': np.float64(1.5452384797579678e-05), 'hel$o': np.float64(1.5452384797579678e-05), \"'ello\": np.float64(6.14421235332821e-06), 'hollo': np.float64(6.14421235332821e-06), 'hPllo': np.float64(6.14421235332821e-06), 'healo': np.float64(6.14421235332821e-06), 'heSlo': np.float64(6.14421235332821e-06), 'heðlo': np.float64(6.14421235332821e-06), 'helao': np.float64(6.14421235332821e-06), 'helSo': np.float64(6.14421235332821e-06), 'helðo': np.float64(6.14421235332821e-06), 'hellq': np.float64(6.14421235332821e-06), 'helle': np.float64(6.14421235332821e-06), 'hellW': np.float64(6.14421235332821e-06), 'h+llo': np.float64(5.596402247735506e-06), 'hezlo': np.float64(5.596402247735506e-06), 'helzo': np.float64(5.596402247735506e-06), 'hell§': np.float64(5.596402247735506e-06), 'h=llo': np.float64(5.5229317872124785e-06), 'hÖllo': np.float64(5.5229317872124785e-06), 'heWlo': np.float64(5.5229317872124785e-06), 'heXlo': np.float64(5.5229317872124785e-06), 'helWo': np.float64(5.5229317872124785e-06), 'helXo': np.float64(5.5229317872124785e-06), 'hell\"': np.float64(5.5229317872124785e-06), 'hellS': np.float64(5.5229317872124785e-06), '¨ello': np.float64(5.426892912429988e-06), 'h}llo': np.float64(5.426892912429988e-06), 'hłllo': np.float64(5.426892912429988e-06), 'he€lo': np.float64(5.426892912429988e-06), 'he¢lo': np.float64(5.426892912429988e-06), 'hel€o': np.float64(5.426892912429988e-06), 'hel¢o': np.float64(5.426892912429988e-06), 'hell3': np.float64(5.426892912429988e-06), 'helld': np.float64(5.426892912429988e-06), 'he1lo': np.float64(4.246918584856712e-06), 'hel1o': np.float64(4.246918584856712e-06), 'hellæ': np.float64(4.246918584856712e-06), 'h_llo': np.float64(4.036369801525056e-06), 'he\"lo': np.float64(4.036369801525056e-06), 'hel\"o': np.float64(4.036369801525056e-06), 'hellX': np.float64(4.036369801525056e-06), '~ello': np.float64(3.776046555255116e-06), 'h.llo': np.float64(3.776046555255116e-06), 'he£lo': np.float64(3.776046555255116e-06), 'hel£o': np.float64(3.776046555255116e-06), 'hellc': np.float64(3.776046555255116e-06), 'hpllo': np.float64(1.3709590863840842e-06), 'hÅllo': np.float64(1.3709590863840842e-06), 'heAlo': np.float64(1.3709590863840842e-06), 'heßlo': np.float64(1.3709590863840842e-06), 'helAo': np.float64(1.3709590863840842e-06), 'helßo': np.float64(1.3709590863840842e-06), 'hellQ': np.float64(1.3709590863840842e-06), 'h´llo': np.float64(1.2616657236176727e-06), 'h?llo': np.float64(1.2487261297922562e-06), 'hÄllo': np.float64(1.2487261297922562e-06), 'heQlo': np.float64(1.2487261297922562e-06), 'heZlo': np.float64(1.2487261297922562e-06), 'helQo': np.float64(1.2487261297922562e-06), 'helZo': np.float64(1.2487261297922562e-06), 'hell!': np.float64(1.2487261297922562e-06), 'hellA': np.float64(1.2487261297922562e-06), 'höllo': np.float64(1.2323326541695742e-06), 'h\\\\llo': np.float64(1.2323326541695742e-06), 'hewlo': np.float64(1.2323326541695742e-06), 'he©lo': np.float64(1.2323326541695742e-06), 'helwo': np.float64(1.2323326541695742e-06), 'hel©o': np.float64(1.2323326541695742e-06), 'hell2': np.float64(1.2323326541695742e-06), 'hells': np.float64(1.2323326541695742e-06), 'he!lo': np.float64(9.47615623976421e-07), 'hel!o': np.float64(9.47615623976421e-07), 'hellZ': np.float64(9.47615623976421e-07), 'h-llo': np.float64(9.006358402325717e-07), 'he@lo': np.float64(9.006358402325717e-07), 'hel@o': np.float64(9.006358402325717e-07), 'hellx': np.float64(9.006358402325717e-07), 'hållo': np.float64(3.059023205018258e-07), 'h^llo': np.float64(3.059023205018258e-07), 'h`llo': np.float64(2.8151567496459596e-07), 'h*llo': np.float64(2.8151567496459596e-07), 'hällo': np.float64(2.786284613220751e-07), 'h|llo': np.float64(2.786284613220751e-07), 'heqlo': np.float64(2.786284613220751e-07), 'heælo': np.float64(2.786284613220751e-07), 'helqo': np.float64(2.786284613220751e-07), 'helæo': np.float64(2.786284613220751e-07), 'hell1': np.float64(2.786284613220751e-07), 'hella': np.float64(2.786284613220751e-07), 'he§lo': np.float64(2.1144162593701308e-07), 'hel§o': np.float64(2.1144162593701308e-07), 'hellz': np.float64(2.1144162593701308e-07), 'h¨llo': np.float64(6.82560337633487e-08), \"h'llo\": np.float64(6.281463763914362e-08), 'h~llo': np.float64(6.281463763914362e-08)}\n"
     ]
    }
   ],
   "source": [
    "print(generate_candidates(\"hello\"))  # Generates probable typos for \"hello\"\n"
   ]
  },
  {
   "cell_type": "markdown",
   "metadata": {},
   "source": [
    "# Functions to add noise to the data\n",
    "### Frequency-Based Typo Mapping"
   ]
  },
  {
   "cell_type": "code",
   "execution_count": null,
   "metadata": {},
   "outputs": [],
   "source": [
    "# Frequency-based typo mapping (more common mistakes occur more often)\n",
    "COMMON_TYPOS = {\n",
    "    'å': [('a', 0.7), ('ä', 0.2), ('p', 0.1)],\n",
    "    'ä': [('a', 0.5), ('ö', 0.3), ('å', 0.2)],\n",
    "    'ö': [('o', 0.6), ('ä', 0.3), ('l', 0.1)],\n",
    "    'e': [('r', 0.3), ('w', 0.2), ('d', 0.1)],\n",
    "    'r': [('e', 0.4), ('t', 0.2), ('f', 0.1)],\n",
    "    'o': [('i', 0.5), ('p', 0.3), ('ö', 0.2)],\n",
    "    'n': [('m', 0.4), ('b', 0.2), (' ', 0.1)],\n",
    "    'm': [('n', 0.5), (',', 0.2), (' ', 0.2)],\n",
    "    ',': [('m', 0.4), ('k', 0.3), ('.', 0.2), ('l', 0.1)],\n",
    "    '.': [(',', 0.5), ('-', 0.3), ('/', 0.2)],\n",
    "    '-': [('.', 0.5), ('ö', 0.3), ('ä', 0.2)],\n",
    "    ' ': [('m', 0.3), ('n', 0.3), (',', 0.2), ('.', 0.2)],\n",
    "}\n",
    "\n",
    "# Function to get a frequent typo replacement\n",
    "def get_common_typo(char):\n",
    "    \"\"\"Returns a common typo with probability-based mistakes.\"\"\"\n",
    "    if char in COMMON_TYPOS:\n",
    "        choices, weights = zip(*COMMON_TYPOS[char]) \n",
    "        return random.choices(choices, weights=weights, k=1)[0]\n",
    "    return char\n"
   ]
  },
  {
   "cell_type": "code",
   "execution_count": 7,
   "metadata": {},
   "outputs": [],
   "source": [
    "def swap_characters(word):\n",
    "    \"\"\"Swap two adjacent characters with a higher probability for closer keys.\"\"\"\n",
    "    if len(word) > 1:\n",
    "        pos = random.randint(0, len(word) - 2)\n",
    "        # Swap adjacent characters with 80% probability\n",
    "        if random.random() < 0.8:\n",
    "            return word[:pos] + word[pos + 1] + word[pos] + word[pos + 2:]\n",
    "    return word\n",
    "\n",
    "\n",
    "def delete_character(word):\n",
    "    \"\"\"Randomly delete a character.\"\"\"\n",
    "    if len(word) > 1:\n",
    "        pos = random.randint(0, len(word) - 1)\n",
    "        return word[:pos] + word[pos + 1:]\n",
    "    return word\n",
    "\n",
    "\n",
    "def insert_character(word):\n",
    "    \"\"\"Insert a random adjacent character with higher probability for closer keys.\"\"\"\n",
    "    pos = random.randint(0, len(word))\n",
    "    base_char = word[pos - 1] if pos > 0 else random.choice(list(KEYBOARD_ADJACENCY.keys()))\n",
    "    random_char = get_adjacent_key(base_char)  # More likely to insert adjacent key\n",
    "    return word[:pos] + random_char + word[pos:]\n",
    "\n",
    "\n",
    "def replace_character(word):\n",
    "    \"\"\"Replace a character with a nearby key instead of a fully random key.\"\"\"\n",
    "    if len(word) > 0:\n",
    "        pos = random.randint(0, len(word) - 1)\n",
    "        random_char = get_adjacent_key(word[pos])  # Use a neighboring key\n",
    "        return word[:pos] + random_char + word[pos + 1:]\n",
    "    return word\n"
   ]
  },
  {
   "cell_type": "code",
   "execution_count": 8,
   "metadata": {},
   "outputs": [
    {
     "name": "stdout",
     "output_type": "stream",
     "text": [
      "Original: hello\n",
      "Swapped: helol\n",
      "Deleted: helo\n",
      "Inserted: herllo\n",
      "Replaced: helll\n"
     ]
    }
   ],
   "source": [
    "test_word = \"hello\"\n",
    "\n",
    "print(\"Original:\", test_word)\n",
    "print(\"Swapped:\", swap_characters(test_word))\n",
    "print(\"Deleted:\", delete_character(test_word))\n",
    "print(\"Inserted:\", insert_character(test_word))\n",
    "print(\"Replaced:\", replace_character(test_word))\n"
   ]
  }
 ],
 "metadata": {
  "kernelspec": {
   "display_name": "venv",
   "language": "python",
   "name": "python3"
  },
  "language_info": {
   "codemirror_mode": {
    "name": "ipython",
    "version": 3
   },
   "file_extension": ".py",
   "mimetype": "text/x-python",
   "name": "python",
   "nbconvert_exporter": "python",
   "pygments_lexer": "ipython3",
   "version": "3.12.3"
  }
 },
 "nbformat": 4,
 "nbformat_minor": 2
}
